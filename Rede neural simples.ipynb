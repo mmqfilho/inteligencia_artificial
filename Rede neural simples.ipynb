{
 "cells": [
  {
   "cell_type": "markdown",
   "metadata": {},
   "source": [
    "## Teste de classificador de rede neural simples"
   ]
  },
  {
   "cell_type": "code",
   "execution_count": 1,
   "metadata": {},
   "outputs": [],
   "source": [
    "# img1 'X'\n",
    "#    1  2  3  4  5\n",
    "# 1 [#][ ][ ][ ][#]\n",
    "# 2 [ ][#][ ][#][ ]\n",
    "# 3 [ ][ ][#][ ][ ]\n",
    "# 4 [ ][#][ ][#][ ]\n",
    "# 5 [#][ ][ ][ ][#]\n",
    "\n",
    "# img2 'O'\n",
    "#    1  2  3  4  5\n",
    "# 1 [ ][ ][#][ ][ ]\n",
    "# 2 [ ][#][ ][#][ ]\n",
    "# 3 [#][ ][ ][ ][#]\n",
    "# 4 [ ][#][ ][#][ ]\n",
    "# 5 [ ][ ][#][ ][ ]"
   ]
  },
  {
   "cell_type": "code",
   "execution_count": 2,
   "metadata": {},
   "outputs": [],
   "source": [
    "#       linha 1          linha 2         linha 3          linha 4          linha 5\n",
    "#       0  1  2  3  4    5  6  7  8  9   10 11 12 13 14   15 16 17 18 19   20 21 22 23 24\n",
    "img1 = (1, 0, 0, 0, 1,   0, 1, 0, 1, 0,   0, 0, 1, 0, 0,   0, 1, 0, 1, 0,   1, 0, 0, 0, 1) # X\n",
    "img2 = (0, 0, 1, 0, 0,   0, 1, 0, 1, 0,   1, 0, 0, 0, 1,   0, 1, 0, 1, 0,   0, 0, 1, 0, 0) # O"
   ]
  },
  {
   "cell_type": "code",
   "execution_count": 3,
   "metadata": {},
   "outputs": [],
   "source": [
    "# Classificador dos pesos\n",
    "def _pesos(k):\n",
    "    if k == 12:\n",
    "        return -1\n",
    "    elif k in [2,10,14,22]:\n",
    "        return 1\n",
    "    else:\n",
    "        return 0"
   ]
  },
  {
   "cell_type": "code",
   "execution_count": 4,
   "metadata": {},
   "outputs": [],
   "source": [
    "# loop para calcular a combinação linear (neurônio)\n",
    "def _loop(img):\n",
    "    total = 0\n",
    "    for k, v in enumerate(img):\n",
    "        total += v * _pesos(k)\n",
    "    return total"
   ]
  },
  {
   "cell_type": "code",
   "execution_count": 5,
   "metadata": {},
   "outputs": [
    {
     "output_type": "stream",
     "name": "stdout",
     "text": "Total img1: -1\nTotal img2: 4\n"
    }
   ],
   "source": [
    "t_img1 = _loop(img1)\n",
    "t_img2 = _loop(img2)\n",
    "    \n",
    "print(f'Total img1: {t_img1}\\nTotal img2: {t_img2}')"
   ]
  },
  {
   "cell_type": "code",
   "execution_count": 6,
   "metadata": {},
   "outputs": [
    {
     "output_type": "stream",
     "name": "stdout",
     "text": "A img1 é um X\nA img2 é um circilo\n"
    }
   ],
   "source": [
    "if (t_img1 > 0):\n",
    "    print('A img1 é um circilo')\n",
    "else:\n",
    "    print('A img1 é um X')\n",
    "    \n",
    "if (t_img2 > 0):\n",
    "    print('A img2 é um circilo')\n",
    "else:\n",
    "    print('A img2 é um X')  "
   ]
  }
 ],
 "metadata": {
  "kernelspec": {
   "display_name": "Python 3",
   "language": "python",
   "name": "python3"
  },
  "language_info": {
   "codemirror_mode": {
    "name": "ipython",
    "version": 3
   },
   "file_extension": ".py",
   "mimetype": "text/x-python",
   "name": "python",
   "nbconvert_exporter": "python",
   "pygments_lexer": "ipython3",
   "version": "3.8.0-final"
  }
 },
 "nbformat": 4,
 "nbformat_minor": 2
}