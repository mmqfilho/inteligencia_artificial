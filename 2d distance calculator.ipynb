{
 "cells": [
  {
   "cell_type": "markdown",
   "metadata": {},
   "source": [
    "## Algoritmo da distância euclidiana com duas dimensões. \n",
    "\n",
    "O cálculo da distância euclidiana entre o ponto P1 com valores (x1, y1) e o ponto P2 em (x2, y2) é √((x1 – x2)² + (y1 – y2)²).\n",
    "\n",
    " "
   ]
  },
  {
   "cell_type": "markdown",
   "metadata": {},
   "source": [
    "![fórmula](formula_calculo_distancia_2_pontos.png)"
   ]
  },
  {
   "cell_type": "code",
   "execution_count": 1,
   "metadata": {},
   "outputs": [],
   "source": [
    "import math"
   ]
  },
  {
   "cell_type": "code",
   "execution_count": 2,
   "metadata": {},
   "outputs": [],
   "source": [
    "x1 = -7\n",
    "y1 = -4\n",
    "\n",
    "x2 = 17\n",
    "y2 = 6.5"
   ]
  },
  {
   "cell_type": "code",
   "execution_count": 3,
   "metadata": {},
   "outputs": [
    {
     "output_type": "stream",
     "name": "stdout",
     "text": "Distância euclidiana entre o ponto P1 e P2: 26.196373794859472\n"
    }
   ],
   "source": [
    "d = math.sqrt((x2 - x1)**2 + (y2 - y1)**2)\n",
    "print(f'Distância euclidiana entre o ponto P1 e P2: {d}')"
   ]
  }
 ],
 "metadata": {
  "kernelspec": {
   "display_name": "Python 3",
   "language": "python",
   "name": "python3"
  },
  "language_info": {
   "codemirror_mode": {
    "name": "ipython",
    "version": 3
   },
   "file_extension": ".py",
   "mimetype": "text/x-python",
   "name": "python",
   "nbconvert_exporter": "python",
   "pygments_lexer": "ipython3",
   "version": "3.8.0-final"
  }
 },
 "nbformat": 4,
 "nbformat_minor": 4
}